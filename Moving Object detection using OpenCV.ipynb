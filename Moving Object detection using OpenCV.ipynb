{
 "cells": [
  {
   "cell_type": "markdown",
   "id": "9c956f15",
   "metadata": {},
   "source": [
    "# <font color = \"#125647\" > <b><i>Moving Object detection using OpenCV</b>\n",
    "<b><i>NAKKA SHEKHAR</b>\n",
    "* [linkedin](https://www.linkedin.com/in/nakka-shekhar-2019a987/)\n",
    "* [github](https://github.com/shekhar443/AI)\n",
    "\n",
    "<b>Steps Used:</b>\n",
    "* Read write and show an image\n",
    "* image shape,size,and type\n",
    "* Converting color image to gray image\n",
    "* Image Resizing\n",
    "* Gaussian Blur Image\n",
    "* Threshold Image\n",
    "* Drawing A Rectangle\n",
    "* Putting Text in the Image\n",
    "* Reading Frame From Camera\n",
    "* Moving Object detection using OpenCV"
   ]
  },
  {
   "cell_type": "markdown",
   "id": "99b19177",
   "metadata": {},
   "source": [
    "### Read write and show an image"
   ]
  },
  {
   "cell_type": "code",
   "execution_count": 1,
   "id": "29ed37e6",
   "metadata": {
    "scrolled": true
   },
   "outputs": [
    {
     "data": {
      "text/plain": [
       "-1"
      ]
     },
     "execution_count": 1,
     "metadata": {},
     "output_type": "execute_result"
    }
   ],
   "source": [
    "import cv2\n",
    "img=cv2.imread(\"E:\\\\AI\\\\shekhar.jpg\")\n",
    "cv2.imwrite(\"Mypic.jpg\",img)\n",
    "cv2.imshow(\"my original pic\",img)\n",
    "cv2.waitKey(0)"
   ]
  },
  {
   "cell_type": "markdown",
   "id": "a6dab11e",
   "metadata": {},
   "source": [
    "### image shape,size,and type"
   ]
  },
  {
   "cell_type": "code",
   "execution_count": 2,
   "id": "013503d6",
   "metadata": {},
   "outputs": [
    {
     "name": "stdout",
     "output_type": "stream",
     "text": [
      "shape of the image :  (505, 393, 3)\n",
      "size of the image :  595395\n",
      "type of the image :  uint8\n"
     ]
    }
   ],
   "source": [
    "img=cv2.imread(\"E:\\\\AI\\\\shekhar.jpg\")\n",
    "\n",
    "print(\"shape of the image : \",img.shape)\n",
    "\n",
    "print(\"size of the image : \",img.size)\n",
    "\n",
    "print(\"type of the image : \",img.dtype)"
   ]
  },
  {
   "cell_type": "markdown",
   "id": "dc6010e0",
   "metadata": {},
   "source": [
    "### Converting color image to gray image"
   ]
  },
  {
   "cell_type": "code",
   "execution_count": 3,
   "id": "e6dfc281",
   "metadata": {},
   "outputs": [],
   "source": [
    "import cv2\n",
    "img=cv2.imread(\"E:\\\\AI\\\\shekhar.jpg\")\n",
    "Gray_img=cv2.cvtColor(img,cv2.COLOR_BGR2GRAY)\n",
    "cv2.imwrite(\"E:\\\\AI\\\\eulerGrayImage.jpg\",Gray_img)\n",
    "cv2.imshow(\"Original\",img)\n",
    "cv2.imshow(\"GrayImage\",Gray_img)\n",
    "cv2.waitKey(0)\n",
    "cv2.destroyAllWindows()"
   ]
  },
  {
   "cell_type": "markdown",
   "id": "0a837e81",
   "metadata": {},
   "source": [
    "### Image Resizing"
   ]
  },
  {
   "cell_type": "code",
   "execution_count": 4,
   "id": "ef1c3571",
   "metadata": {},
   "outputs": [],
   "source": [
    "import cv2\n",
    "import imutils\n",
    "img=cv2.imread(\"E:\\\\AI\\\\shekhar.jpg\")\n",
    "resizeImg=imutils.resize(img,width=50,height=70)\n",
    "cv2.imwrite(\"E:\\\\AI\\\\resizedImage.jpg\",resizeImg)\n",
    "cv2.imshow(\"original\",img)\n",
    "cv2.imshow(\"E:\\\\AI\\\\resizedImage\",resizeImg)\n",
    "cv2.waitKey(0)\n",
    "cv2.destroyAllWindows()"
   ]
  },
  {
   "cell_type": "markdown",
   "id": "94078fc5",
   "metadata": {},
   "source": [
    "### Gaussian Blur Image"
   ]
  },
  {
   "cell_type": "code",
   "execution_count": 5,
   "id": "2d43c872",
   "metadata": {},
   "outputs": [],
   "source": [
    "import cv2\n",
    "img=cv2.imread(\"E:\\\\AI\\\\shekhar.jpg\")\n",
    "gaussianBlurImage=cv2.GaussianBlur(img,(21,21),0)\n",
    "cv2.imwrite(\"E:\\\\AI\\\\gaussianimage.jpg\",gaussianBlurImage)\n",
    "cv2.imshow(\"originalimage\",img)\n",
    "cv2.imshow(\"gaussianimage\",gaussianBlurImage)\n",
    "cv2.waitKey(0)\n",
    "cv2.destroyAllWindows()"
   ]
  },
  {
   "cell_type": "markdown",
   "id": "7dac2651",
   "metadata": {},
   "source": [
    "### Threshold Image"
   ]
  },
  {
   "cell_type": "code",
   "execution_count": 6,
   "id": "75ed3fb5",
   "metadata": {},
   "outputs": [],
   "source": [
    "import cv2\n",
    "img=cv2.imread(\"E:\\\\AI\\\\shekhar.jpg\")\n",
    "grayimg=cv2.cvtColor(img,cv2.COLOR_BGR2GRAY)\n",
    "_,thresholdimg=cv2.threshold(grayimg,200,255,cv2.THRESH_BINARY)\n",
    "cv2.imwrite(\"E:\\\\AI\\\\threshimg.jpg\",thresholdimg)\n",
    "cv2.imshow(\"original\",img)\n",
    "cv2.imshow(\"grayimage\",grayimg)\n",
    "cv2.imshow(\"thresholdimage\",thresholdimg)\n",
    "cv2.waitKey(0)\n",
    "cv2.destroyAllWindows()"
   ]
  },
  {
   "cell_type": "markdown",
   "id": "c28f39ad",
   "metadata": {},
   "source": [
    "### Drawing A Rectangle"
   ]
  },
  {
   "cell_type": "code",
   "execution_count": 7,
   "id": "9cb07de8",
   "metadata": {},
   "outputs": [
    {
     "data": {
      "text/plain": [
       "'cv2.rectangle(image,start_point,end_point,color,thickness)\\ncv2.rectangle(image,(x,y),(x+w,y+h),(0,255,0),2)'"
      ]
     },
     "execution_count": 7,
     "metadata": {},
     "output_type": "execute_result"
    }
   ],
   "source": [
    "\"\"\"cv2.rectangle(image,start_point,end_point,color,thickness)\n",
    "cv2.rectangle(image,(x,y),(x+w,y+h),(0,255,0),2)\"\"\""
   ]
  },
  {
   "cell_type": "markdown",
   "id": "6f0a6977",
   "metadata": {},
   "source": [
    "### Putting Text in the Image"
   ]
  },
  {
   "cell_type": "code",
   "execution_count": 8,
   "id": "26435e87",
   "metadata": {},
   "outputs": [
    {
     "data": {
      "text/plain": [
       "'cv2.putText(image,text,position,font,font_size,color,thickness)\\ncv2.putText(image,text,(x,y),cv2.FONT_HERSHEY_SIMPLEX,0.5,(0,255,0),2)'"
      ]
     },
     "execution_count": 8,
     "metadata": {},
     "output_type": "execute_result"
    }
   ],
   "source": [
    "\"\"\"cv2.putText(image,text,position,font,font_size,color,thickness)\n",
    "cv2.putText(image,text,(x,y),cv2.FONT_HERSHEY_SIMPLEX,0.5,(0,255,0),2)\"\"\""
   ]
  },
  {
   "cell_type": "markdown",
   "id": "8cefa4d7",
   "metadata": {},
   "source": [
    "### Reading Frame From Camera"
   ]
  },
  {
   "cell_type": "code",
   "execution_count": 9,
   "id": "b26e290e",
   "metadata": {},
   "outputs": [],
   "source": [
    "import cv2\n",
    "import time\n",
    "\n",
    "vs=cv2.VideoCapture(0)\n",
    "time.sleep(1)\n",
    "\n",
    "while True:\n",
    "    _,img=vs.read()\n",
    "    cv2.imshow(\"VideoStream\",img)\n",
    "    key=cv2.waitKey(1)&0xFF\n",
    "    if key == ord(\"q\"):\n",
    "        break\n",
    "vs.release()\n",
    "cv2.destroyAllWindows()"
   ]
  },
  {
   "cell_type": "markdown",
   "id": "7a8187b4",
   "metadata": {},
   "source": [
    "## Moving Object detection using OpenCV"
   ]
  },
  {
   "cell_type": "code",
   "execution_count": 10,
   "id": "d2f990ad",
   "metadata": {
    "scrolled": false
   },
   "outputs": [
    {
     "name": "stdout",
     "output_type": "stream",
     "text": [
      "Moving object is detected\n",
      "Moving object is detected\n",
      "Moving object is detected\n",
      "Moving object is detected\n",
      "Moving object is detected\n",
      "Moving object is detected\n",
      "Moving object is detected\n",
      "Moving object is detected\n",
      "Moving object is detected\n",
      "Moving object is detected\n",
      "Moving object is detected\n",
      "Moving object is detected\n",
      "Moving object is detected\n",
      "Moving object is detected\n",
      "Moving object is detected\n",
      "Moving object is detected\n",
      "Moving object is detected\n",
      "Moving object is detected\n",
      "Moving object is detected\n",
      "Moving object is detected\n",
      "Moving object is detected\n",
      "Moving object is detected\n",
      "Moving object is detected\n",
      "Moving object is detected\n",
      "Moving object is detected\n",
      "Moving object is detected\n",
      "Moving object is detected\n",
      "Moving object is detected\n",
      "Moving object is detected\n",
      "Moving object is detected\n",
      "Moving object is detected\n",
      "Moving object is detected\n",
      "Moving object is detected\n",
      "Moving object is detected\n",
      "Moving object is detected\n",
      "Moving object is detected\n",
      "Moving object is detected\n",
      "Moving object is detected\n",
      "Moving object is detected\n",
      "Moving object is detected\n",
      "Moving object is detected\n",
      "Moving object is detected\n",
      "Moving object is detected\n",
      "Moving object is detected\n",
      "Moving object is detected\n",
      "Moving object is detected\n",
      "Moving object is detected\n",
      "Moving object is detected\n",
      "Moving object is detected\n",
      "Moving object is detected\n",
      "Moving object is detected\n",
      "Moving object is detected\n",
      "Moving object is detected\n",
      "Moving object is detected\n",
      "Moving object is detected\n",
      "Moving object is detected\n",
      "Moving object is detected\n",
      "Moving object is detected\n",
      "Moving object is detected\n",
      "Moving object is detected\n",
      "Moving object is detected\n",
      "Moving object is detected\n"
     ]
    }
   ],
   "source": [
    "import cv2\n",
    "import time\n",
    "import imutils\n",
    "\n",
    "vs=cv2.VideoCapture(0)\n",
    "time.sleep(1)\n",
    "firstFrame=None\n",
    "area=500\n",
    "\n",
    "\n",
    "while True:\n",
    "    _,img=vs.read()\n",
    "    text=\"Nornal\"\n",
    "    img=imutils.resize(img,width=150,height=150)\n",
    "    gray_image=cv2.cvtColor(img,cv2.COLOR_BGR2GRAY)\n",
    "    gaussian_image=cv2.GaussianBlur(gray_image,(21,21),0)\n",
    "    if firstFrame is None:\n",
    "        firstFrame=gaussian_image\n",
    "        continue\n",
    "    imgdiff=cv2.absdiff(firstFrame,gaussian_image)                   \n",
    "    threshImg=cv2.threshold(imgdiff,25,255,cv2.THRESH_BINARY)[1]\n",
    "    threshImg=cv2.dilate(threshImg,None,iterations=2)\n",
    "    cnts=cv2.findContours(threshImg.copy(),cv2.RETR_EXTERNAL,\n",
    "                        cv2.CHAIN_APPROX_SIMPLE)\n",
    "    cnts=imutils.grab_contours(cnts)\n",
    "    \n",
    "    for c in cnts:\n",
    "        if cv2.contourArea(c)< area:\n",
    "            continue\n",
    "        (x,y,w,h)=cv2.boundingRect(c)\n",
    "        cv2.rectangle(img,(x,y),(x+w,y+h),(0,255,0),2)\n",
    "        text=\"Moving object is detected\"\n",
    "        print(text)\n",
    "    cv2.putText(img,text,(10,20),cv2.FONT_HERSHEY_SIMPLEX,0.5,(0,0,255),2)\n",
    "    cv2.imshow(\"VideoStream\",img)\n",
    "    key=cv2.waitKey(1)&0xFF\n",
    "    if key == ord(\"q\"):\n",
    "        break\n",
    "vs.release()\n",
    "cv2.destroyAllWindows()"
   ]
  }
 ],
 "metadata": {
  "kernelspec": {
   "display_name": "Python 3 (ipykernel)",
   "language": "python",
   "name": "python3"
  },
  "language_info": {
   "codemirror_mode": {
    "name": "ipython",
    "version": 3
   },
   "file_extension": ".py",
   "mimetype": "text/x-python",
   "name": "python",
   "nbconvert_exporter": "python",
   "pygments_lexer": "ipython3",
   "version": "3.9.12"
  },
  "latex_envs": {
   "LaTeX_envs_menu_present": true,
   "autoclose": false,
   "autocomplete": true,
   "bibliofile": "biblio.bib",
   "cite_by": "apalike",
   "current_citInitial": 1,
   "eqLabelWithNumbers": true,
   "eqNumInitial": 1,
   "hotkeys": {
    "equation": "Ctrl-E",
    "itemize": "Ctrl-I"
   },
   "labels_anchors": false,
   "latex_user_defs": false,
   "report_style_numbering": false,
   "user_envs_cfg": false
  },
  "varInspector": {
   "cols": {
    "lenName": 16,
    "lenType": 16,
    "lenVar": 40
   },
   "kernels_config": {
    "python": {
     "delete_cmd_postfix": "",
     "delete_cmd_prefix": "del ",
     "library": "var_list.py",
     "varRefreshCmd": "print(var_dic_list())"
    },
    "r": {
     "delete_cmd_postfix": ") ",
     "delete_cmd_prefix": "rm(",
     "library": "var_list.r",
     "varRefreshCmd": "cat(var_dic_list()) "
    }
   },
   "types_to_exclude": [
    "module",
    "function",
    "builtin_function_or_method",
    "instance",
    "_Feature"
   ],
   "window_display": false
  }
 },
 "nbformat": 4,
 "nbformat_minor": 5
}
