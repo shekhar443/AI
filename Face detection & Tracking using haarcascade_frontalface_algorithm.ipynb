{
 "cells": [
  {
   "cell_type": "markdown",
   "id": "e1b0be85",
   "metadata": {},
   "source": [
    "# <font color = \"#856479\" > <b><i>Face detection & Tracking using haarcascade_frontalface_algorithm</b>\n",
    "<b><i>NAKKA SHEKHAR</b>\n",
    "* [linkedin](https://www.linkedin.com/in/nakka-shekhar-2019a987/)\n",
    "* [github](https://github.com/shekhar443/AI)"
   ]
  },
  {
   "cell_type": "markdown",
   "id": "6a831281",
   "metadata": {},
   "source": [
    "### Steps followed:"
   ]
  },
  {
   "cell_type": "markdown",
   "id": "3cc0ee97",
   "metadata": {},
   "source": [
    "1. Loading HaarCascadeFaceAlgorithm\n",
    "2. Initializing Camera\n",
    "3. Reading Frame From Camera\n",
    "4. Converting Color Image into Gray scale Image\n",
    "5. Obtaining Face Coordinates by Positioning Algorithm\n",
    "6. Drawing Rectangle on the Coordinates \n",
    "7. Display the output Frame "
   ]
  },
  {
   "cell_type": "markdown",
   "id": "59aaa43e",
   "metadata": {},
   "source": [
    "### Detect MultiSclae"
   ]
  },
  {
   "cell_type": "code",
   "execution_count": 1,
   "id": "81efe45e",
   "metadata": {},
   "outputs": [],
   "source": [
    "# faces=face_cascade.detectMultiScale(src,scalefactor,minNeighbors)\n",
    "# faces=face_cascsde.detectMultiScale(image,1.3,4)"
   ]
  },
  {
   "cell_type": "markdown",
   "id": "b2b4d6da",
   "metadata": {},
   "source": [
    "### Face detection & Tracking"
   ]
  },
  {
   "cell_type": "code",
   "execution_count": 2,
   "id": "3869e5ad",
   "metadata": {
    "scrolled": false
   },
   "outputs": [
    {
     "name": "stdout",
     "output_type": "stream",
     "text": [
      "1\n",
      "2\n",
      "3\n",
      "4\n",
      "5\n",
      "6\n",
      "7\n",
      "8\n",
      "9\n",
      "10\n",
      "11\n",
      "12\n",
      "13\n",
      "14\n",
      "15\n",
      "16\n",
      "17\n",
      "18\n",
      "19\n",
      "20\n",
      "21\n",
      "22\n",
      "23\n",
      "24\n",
      "25\n",
      "26\n",
      "27\n",
      "28\n",
      "29\n",
      "30\n",
      "image captured succssfully\n"
     ]
    }
   ],
   "source": [
    "import cv2\n",
    "import os\n",
    "\n",
    "dataset=\"C:\\\\Users\\\\USER\\\\Downloads\\\\dataset\"\n",
    "name=\"C:\\\\Users\\\\USER\\\\Downloads\\\\dataset\\\\champ\"\n",
    "\n",
    "path=os.path.join(dataset,name)\n",
    "if not os.path.isdir(path):\n",
    "    os.mkdir(path)\n",
    "(width,height)=(130,100)\n",
    "\n",
    "algo = \"C:\\\\Users\\\\USER\\\\Downloads\\\\haarcascade_frontalface_default.xml\"\n",
    "haar_cascade = cv2.CascadeClassifier(algo)\n",
    "cam = cv2.VideoCapture(0)\n",
    "\n",
    "count = 1\n",
    "while count < 31:\n",
    "    print(count)\n",
    "    _,img = cam.read()\n",
    "    gray = cv2.cvtColor(img,cv2.COLOR_BGR2GRAY)\n",
    "    face = haar_cascade.detectMultiScale(gray,1.3,4)\n",
    "    for (x,y,w,h) in face:\n",
    "        cv2.rectangle(img,(x,y),(x+w,y+h),(0,255,0),2)\n",
    "        faceonly = gray[y:y+h,x:x+w]\n",
    "        resizeImg=cv2.resize(faceonly,(width,height))\n",
    "        cv2.imwrite(\"%s/%s.jpg\" %(path,count),faceonly)\n",
    "        count+=1\n",
    "    cv2.imshow(\"Facedetection\",img) \n",
    "    key = cv2.waitKey(10)\n",
    "    if key == 27:\n",
    "        break\n",
    "print(\"image captured succssfully\")\n",
    "cam.release()\n",
    "cv2.destroyAllWindows()"
   ]
  },
  {
   "cell_type": "code",
   "execution_count": null,
   "id": "49e62176",
   "metadata": {},
   "outputs": [],
   "source": []
  }
 ],
 "metadata": {
  "kernelspec": {
   "display_name": "Python 3 (ipykernel)",
   "language": "python",
   "name": "python3"
  },
  "language_info": {
   "codemirror_mode": {
    "name": "ipython",
    "version": 3
   },
   "file_extension": ".py",
   "mimetype": "text/x-python",
   "name": "python",
   "nbconvert_exporter": "python",
   "pygments_lexer": "ipython3",
   "version": "3.9.12"
  },
  "latex_envs": {
   "LaTeX_envs_menu_present": true,
   "autoclose": false,
   "autocomplete": true,
   "bibliofile": "biblio.bib",
   "cite_by": "apalike",
   "current_citInitial": 1,
   "eqLabelWithNumbers": true,
   "eqNumInitial": 1,
   "hotkeys": {
    "equation": "Ctrl-E",
    "itemize": "Ctrl-I"
   },
   "labels_anchors": false,
   "latex_user_defs": false,
   "report_style_numbering": false,
   "user_envs_cfg": false
  },
  "varInspector": {
   "cols": {
    "lenName": 16,
    "lenType": 16,
    "lenVar": 40
   },
   "kernels_config": {
    "python": {
     "delete_cmd_postfix": "",
     "delete_cmd_prefix": "del ",
     "library": "var_list.py",
     "varRefreshCmd": "print(var_dic_list())"
    },
    "r": {
     "delete_cmd_postfix": ") ",
     "delete_cmd_prefix": "rm(",
     "library": "var_list.r",
     "varRefreshCmd": "cat(var_dic_list()) "
    }
   },
   "types_to_exclude": [
    "module",
    "function",
    "builtin_function_or_method",
    "instance",
    "_Feature"
   ],
   "window_display": false
  }
 },
 "nbformat": 4,
 "nbformat_minor": 5
}
